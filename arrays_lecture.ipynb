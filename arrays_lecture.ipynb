{
 "cells": [
  {
   "attachments": {},
   "cell_type": "markdown",
   "metadata": {},
   "source": [
    "# Combining Data Types into Collections\n",
    "\n",
    "In this section, we will learn how to combine simple data types into collections, such as lists and arrays. We will explore the advantages and disadvantages of different collection types and learn how to use them.\n",
    "\n",
    "## Lists\n",
    "\n",
    "Lists are ordered collections of elements with a dynamic size and type. While lists are very flexible, they may not be the most efficient collection type for all use cases.\n",
    "\n",
    "Here is an example of a list of reaction times from three different participants:"
   ]
  },
  {
   "cell_type": "code",
   "execution_count": 5,
   "metadata": {},
   "outputs": [],
   "source": [
    "participant_1_RTs = [713, 552, 473, 143, 638, 311, 668, 937, 621, 459]\n",
    "participant_2_RTs = [287, 750, 411, 410, 351, 1040, 1124, 891, 924, 664]\n",
    "participant_3_RTs = [342, 1063, 131, 485, 480, 159, 60, 389, 375, 653]"
   ]
  },
  {
   "attachments": {},
   "cell_type": "markdown",
   "metadata": {},
   "source": [
    "To compare the reaction times on the 4th trial (index 3), we can use indexing:"
   ]
  },
  {
   "cell_type": "code",
   "execution_count": 2,
   "metadata": {},
   "outputs": [
    {
     "name": "stdout",
     "output_type": "stream",
     "text": [
      "143 410 485\n"
     ]
    }
   ],
   "source": [
    "print(participant_1_RTs[3], participant_2_RTs[3], participant_3_RTs[3])"
   ]
  },
  {
   "attachments": {},
   "cell_type": "markdown",
   "metadata": {},
   "source": [
    "Alternatively, we can use a list of lists, which can make the code cleaner:"
   ]
  },
  {
   "cell_type": "code",
   "execution_count": null,
   "metadata": {},
   "outputs": [],
   "source": []
  },
  {
   "attachments": {},
   "cell_type": "markdown",
   "metadata": {},
   "source": [
    "Now, to get a single value (e.g. 4th trial from 2nd participant), we need to provide 2 indices:"
   ]
  },
  {
   "cell_type": "code",
   "execution_count": null,
   "metadata": {},
   "outputs": [],
   "source": []
  },
  {
   "attachments": {},
   "cell_type": "markdown",
   "metadata": {},
   "source": [
    "We can also compare them now, using loops, without having to manually type something out for each participant:"
   ]
  },
  {
   "cell_type": "code",
   "execution_count": null,
   "metadata": {},
   "outputs": [],
   "source": []
  },
  {
   "attachments": {},
   "cell_type": "markdown",
   "metadata": {},
   "source": [
    "## Arrays\n",
    "\n",
    "Another collection type that can be useful for data analysis is the array. Arrays are provided by the `numpy` package and have some advantages over lists:\n",
    "\n",
    "* Fixed size (no appending)\n",
    "* Fixed type (everything of the same type)\n",
    "* Bulk computations on arrays are much faster\n",
    "\n",
    "Here is an example of how to convert our list of lists to a numpy array:"
   ]
  },
  {
   "cell_type": "code",
   "execution_count": 8,
   "metadata": {},
   "outputs": [
    {
     "ename": "NameError",
     "evalue": "name 'participants' is not defined",
     "output_type": "error",
     "traceback": [
      "\u001b[1;31m---------------------------------------------------------------------------\u001b[0m",
      "\u001b[1;31mNameError\u001b[0m                                 Traceback (most recent call last)",
      "Cell \u001b[1;32mIn[8], line 3\u001b[0m\n\u001b[0;32m      1\u001b[0m \u001b[39mimport\u001b[39;00m \u001b[39mnumpy\u001b[39;00m \u001b[39mas\u001b[39;00m \u001b[39mnp\u001b[39;00m\n\u001b[1;32m----> 3\u001b[0m participants_array \u001b[39m=\u001b[39m np\u001b[39m.\u001b[39marray(participants)\n\u001b[0;32m      4\u001b[0m \u001b[39mprint\u001b[39m(participants_array)\n",
      "\u001b[1;31mNameError\u001b[0m: name 'participants' is not defined"
     ]
    }
   ],
   "source": [
    "import numpy as np\n",
    "\n",
    "participants_array = np.array(participants) #look at arrays_exercises notebook\n",
    "print(participants_array)"
   ]
  },
  {
   "attachments": {},
   "cell_type": "markdown",
   "metadata": {},
   "source": [
    "Now, it all of a sudden becomes very simple to compare reaction times, or to get all reaction times from a single participant!"
   ]
  },
  {
   "cell_type": "code",
   "execution_count": 7,
   "metadata": {},
   "outputs": [
    {
     "ename": "NameError",
     "evalue": "name 'participants_array' is not defined",
     "output_type": "error",
     "traceback": [
      "\u001b[1;31m---------------------------------------------------------------------------\u001b[0m",
      "\u001b[1;31mNameError\u001b[0m                                 Traceback (most recent call last)",
      "Cell \u001b[1;32mIn[7], line 1\u001b[0m\n\u001b[1;32m----> 1\u001b[0m \u001b[39mprint\u001b[39m(participants_array[\u001b[39m0.3\u001b[39m])\n",
      "\u001b[1;31mNameError\u001b[0m: name 'participants_array' is not defined"
     ]
    }
   ],
   "source": [
    "print(participants_array[0.3])\n",
    "print(participants_array[:,3])"
   ]
  },
  {
   "attachments": {},
   "cell_type": "markdown",
   "metadata": {},
   "source": [
    "We can also do other operations to aggregate information, like taking the participant mean or standard deviation:"
   ]
  },
  {
   "cell_type": "code",
   "execution_count": null,
   "metadata": {},
   "outputs": [],
   "source": [
    "print(participants_array.mean(axis=1)) #mean per participant across trials\n",
    "print(participants_array.mean(axis=0)) #mean per trial across participants "
   ]
  },
  {
   "attachments": {},
   "cell_type": "markdown",
   "metadata": {},
   "source": [
    "Or, just as easily, the trial means:"
   ]
  },
  {
   "cell_type": "code",
   "execution_count": null,
   "metadata": {},
   "outputs": [],
   "source": []
  }
 ],
 "metadata": {
  "kernelspec": {
   "display_name": "Python 3",
   "language": "python",
   "name": "python3"
  },
  "language_info": {
   "codemirror_mode": {
    "name": "ipython",
    "version": 3
   },
   "file_extension": ".py",
   "mimetype": "text/x-python",
   "name": "python",
   "nbconvert_exporter": "python",
   "pygments_lexer": "ipython3",
   "version": "3.9.13"
  },
  "orig_nbformat": 4
 },
 "nbformat": 4,
 "nbformat_minor": 2
}
