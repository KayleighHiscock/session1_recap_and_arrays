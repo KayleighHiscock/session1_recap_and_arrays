{
 "cells": [
  {
   "attachments": {},
   "cell_type": "markdown",
   "metadata": {},
   "source": [
    "# Combining Data Types\n",
    "\n",
    "In this section, we will learn how to combine simple data types into collections, such as lists and arrays. We will explore the advantages and disadvantages of different collection types and learn how to use them.\n",
    "\n",
    "## Lists\n",
    "\n",
    "Lists are ordered collections of elements with a dynamic size and type. While lists are very flexible, they may not be the most efficient collection type for all use cases.\n",
    "\n",
    "Here is an example of a list of reaction times from three different participants:"
   ]
  },
  {
   "cell_type": "code",
   "execution_count": 6,
   "metadata": {},
   "outputs": [],
   "source": [
    "participant_1_RTs = [713, 552, 473, 143, 638, 311, 668, 937, 621, 459]\n",
    "participant_2_RTs = [287, 750, 411, 410, 351, 1040, 1124, 891, 924, 664]\n",
    "participant_3_RTs = [342, 1063, 131, 485, 480, 159, 60, 389, 375, 653]"
   ]
  },
  {
   "attachments": {},
   "cell_type": "markdown",
   "metadata": {},
   "source": [
    "To compare the reaction times on the 4th trial (index 3), we can use indexing:"
   ]
  },
  {
   "cell_type": "code",
   "execution_count": 7,
   "metadata": {},
   "outputs": [
    {
     "name": "stdout",
     "output_type": "stream",
     "text": [
      "143 410 485\n"
     ]
    }
   ],
   "source": [
    "print(participant_1_RTs[3], participant_2_RTs[3], participant_3_RTs[3])"
   ]
  },
  {
   "attachments": {},
   "cell_type": "markdown",
   "metadata": {},
   "source": [
    "Alternatively, we can use a list of lists, which can make the code cleaner:"
   ]
  },
  {
   "cell_type": "code",
   "execution_count": 8,
   "metadata": {},
   "outputs": [],
   "source": [
    "#   Second (inner) index >  \n",
    "#    0    1    2    3    4    5    6    7    8    9         First (outer) index \\/\n",
    "participants = [\n",
    "    [713, 552, 473, 143, 638, 311, 668, 937, 621, 459],    # 0\n",
    "    [287, 750, 411, 410, 351, 1040, 1124, 891, 924, 664],  # 1\n",
    "    [342, 1063, 131, 485, 480, 159, 60, 389, 375, 653]     # 2\n",
    "]"
   ]
  },
  {
   "attachments": {},
   "cell_type": "markdown",
   "metadata": {},
   "source": [
    "Now, to get a single value (e.g. 4th trial from 2nd participant), we need to provide 2 indices:"
   ]
  },
  {
   "cell_type": "code",
   "execution_count": 9,
   "metadata": {},
   "outputs": [
    {
     "name": "stdout",
     "output_type": "stream",
     "text": [
      "410\n"
     ]
    }
   ],
   "source": [
    "print(participants[1][3])"
   ]
  },
  {
   "attachments": {},
   "cell_type": "markdown",
   "metadata": {},
   "source": [
    "We can also compare them now, using loops, without having to manually type something out for each participant:"
   ]
  },
  {
   "cell_type": "code",
   "execution_count": 10,
   "metadata": {},
   "outputs": [
    {
     "name": "stdout",
     "output_type": "stream",
     "text": [
      "143\n",
      "410\n",
      "485\n"
     ]
    }
   ],
   "source": [
    "for participant in participants:\n",
    "    print(participant[3])"
   ]
  },
  {
   "attachments": {},
   "cell_type": "markdown",
   "metadata": {},
   "source": [
    "## Arrays\n",
    "\n",
    "Another collection type that can be useful for data analysis is the array. Arrays are provided by the `numpy` package and have some advantages over lists:\n",
    "\n",
    "* Fixed size (no appending)\n",
    "* Fixed type (everything of the same type)\n",
    "* Bulk computations on arrays are much faster\n",
    "\n",
    "Here is an example of how to convert our list of lists to a numpy array:"
   ]
  },
  {
   "cell_type": "code",
   "execution_count": 24,
   "metadata": {},
   "outputs": [],
   "source": [
    "import numpy as np\n",
    "\n",
    "participants_array = np.array(participants)"
   ]
  },
  {
   "attachments": {},
   "cell_type": "markdown",
   "metadata": {},
   "source": [
    "Now, it all of a sudden becomes very simple to compare reaction times, or to get all reaction times from a single participant!"
   ]
  },
  {
   "cell_type": "code",
   "execution_count": 12,
   "metadata": {},
   "outputs": [
    {
     "name": "stdout",
     "output_type": "stream",
     "text": [
      "[143 410 485]\n",
      "[ 287  750  411  410  351 1040 1124  891  924  664]\n"
     ]
    }
   ],
   "source": [
    "print(participants_array[:, 3])  # It's so simple now to compare reaction times!\n",
    "print(participants_array[1, :])  # Or to get all RTs from a single participant."
   ]
  },
  {
   "attachments": {},
   "cell_type": "markdown",
   "metadata": {},
   "source": [
    "We can also do other operations to aggregate information, like taking the participant mean or standard deviation:"
   ]
  },
  {
   "cell_type": "code",
   "execution_count": 13,
   "metadata": {},
   "outputs": [
    {
     "name": "stdout",
     "output_type": "stream",
     "text": [
      "[551.5 685.2 413.7]\n",
      "[209.76379573 290.45302546 276.67274893]\n"
     ]
    }
   ],
   "source": [
    "print(participants_array.mean(axis=1))\n",
    "print(participants_array.std(axis=1))"
   ]
  },
  {
   "attachments": {},
   "cell_type": "markdown",
   "metadata": {},
   "source": [
    "Or, just as easily, the trial means:"
   ]
  },
  {
   "cell_type": "code",
   "execution_count": 14,
   "metadata": {},
   "outputs": [
    {
     "name": "stdout",
     "output_type": "stream",
     "text": [
      "[447.33333333 788.33333333 338.33333333 346.         489.66666667\n",
      " 503.33333333 617.33333333 739.         640.         592.        ]\n"
     ]
    }
   ],
   "source": [
    "print(participants_array.mean(axis=0))"
   ]
  },
  {
   "attachments": {},
   "cell_type": "markdown",
   "metadata": {},
   "source": [
    "## Exercises\n",
    "\n",
    "For this exercise, you will need to import the `log()` function from the math package. Then, try to calculate the log-RTs (the logarithm of each reaction time) using:\n",
    "\n",
    "1. The three separate RT lists (hint: you may need to use several for-loops)\n",
    "2. The participants list of lists (hint: two for-loops should be enough here!)\n",
    "3. The participants array in numpy (hint: use np.log instead of Python's log function; you shouldn't need a loop!)\n",
    "\n",
    "### Exercise 1"
   ]
  },
  {
   "cell_type": "code",
   "execution_count": 22,
   "metadata": {},
   "outputs": [
    {
     "name": "stdout",
     "output_type": "stream",
     "text": [
      "Log RTs for participant 1: [6.569481420414296, 6.313548046277095, 6.159095388491933, 4.962844630259907, 6.45833828334479, 5.739792912179234, 6.504288173536645, 6.842683282238422, 6.431331081933479, 6.129050210060545]\n",
      "Log RTs for participant 2: [5.659482215759621, 6.620073206530356, 6.018593214496234, 6.016157159698354, 5.860786223465865, 6.946975992135418, 7.024649030453636, 6.792344427470809, 6.828712071641684, 6.498282149476434]\n",
      "Log RTs for participant 3: [5.834810737062605, 6.968850378341948, 4.875197323201151, 6.184148890937483, 6.173786103901937, 5.0689042022202315, 4.0943445622221, 5.963579343618446, 5.926926025970411, 6.481577129276431]\n"
     ]
    }
   ],
   "source": [
    "from math import log\n",
    "\n",
    "# Type your code here, using participant_1_RTs, participant_2_RTs, and participant_3_RTs\n",
    "participant_1_RTs = [713, 552, 473, 143, 638, 311, 668, 937, 621, 459]\n",
    "participant_2_RTs = [287, 750, 411, 410, 351, 1040, 1124, 891, 924, 664]\n",
    "participant_3_RTs = [342, 1063, 131, 485, 480, 159, 60, 389, 375, 653]\n",
    "\n",
    "log_RTs_1 = []\n",
    "for RT in participant_1_RTs:\n",
    "    log_RTs_1.append(log(RT))\n",
    "\n",
    "\n",
    "log_RTs_2 = []\n",
    "for RT in participant_2_RTs:\n",
    "    log_RTs_2.append(log(RT))\n",
    "\n",
    "log_RTs_3 = []\n",
    "for RT in participant_3_RTs:\n",
    "    log_RTs_3.append(log(RT))\n",
    "\n",
    "print(\"Log RTs for participant 1:\", log_RTs_1)\n",
    "print(\"Log RTs for participant 2:\", log_RTs_2)\n",
    "print(\"Log RTs for participant 3:\", log_RTs_3)"
   ]
  },
  {
   "attachments": {},
   "cell_type": "markdown",
   "metadata": {},
   "source": [
    "### Exercise 2"
   ]
  },
  {
   "cell_type": "code",
   "execution_count": 23,
   "metadata": {},
   "outputs": [
    {
     "name": "stdout",
     "output_type": "stream",
     "text": [
      "Participant 1, Trial 1: log RT = 6.57\n",
      "Participant 1, Trial 2: log RT = 6.31\n",
      "Participant 1, Trial 3: log RT = 6.16\n",
      "Participant 1, Trial 4: log RT = 4.96\n",
      "Participant 1, Trial 5: log RT = 6.46\n",
      "Participant 1, Trial 6: log RT = 5.74\n",
      "Participant 1, Trial 7: log RT = 6.50\n",
      "Participant 1, Trial 8: log RT = 6.84\n",
      "Participant 1, Trial 9: log RT = 6.43\n",
      "Participant 1, Trial 10: log RT = 6.13\n",
      "Participant 2, Trial 1: log RT = 5.66\n",
      "Participant 2, Trial 2: log RT = 6.62\n",
      "Participant 2, Trial 3: log RT = 6.02\n",
      "Participant 2, Trial 4: log RT = 6.02\n",
      "Participant 2, Trial 5: log RT = 5.86\n",
      "Participant 2, Trial 6: log RT = 6.95\n",
      "Participant 2, Trial 7: log RT = 7.02\n",
      "Participant 2, Trial 8: log RT = 6.79\n",
      "Participant 2, Trial 9: log RT = 6.83\n",
      "Participant 2, Trial 10: log RT = 6.50\n",
      "Participant 3, Trial 1: log RT = 5.83\n",
      "Participant 3, Trial 2: log RT = 6.97\n",
      "Participant 3, Trial 3: log RT = 4.88\n",
      "Participant 3, Trial 4: log RT = 6.18\n",
      "Participant 3, Trial 5: log RT = 6.17\n",
      "Participant 3, Trial 6: log RT = 5.07\n",
      "Participant 3, Trial 7: log RT = 4.09\n",
      "Participant 3, Trial 8: log RT = 5.96\n",
      "Participant 3, Trial 9: log RT = 5.93\n",
      "Participant 3, Trial 10: log RT = 6.48\n"
     ]
    }
   ],
   "source": [
    "from math import log\n",
    "\n",
    "# Type your code here, using participants\n",
    "participants = [\n",
    "    [713, 552, 473, 143, 638, 311, 668, 937, 621, 459],    # 0\n",
    "    [287, 750, 411, 410, 351, 1040, 1124, 891, 924, 664],  # 1\n",
    "    [342, 1063, 131, 485, 480, 159, 60, 389, 375, 653]     # 2\n",
    "]\n",
    "\n",
    "# Iterate over each participant's list of RTs and compute the log of each value\n",
    "for i in range(len(participants)):\n",
    "    for j in range(len(participants[i])):\n",
    "        log_RT = log(participants[i][j])\n",
    "        print(f\"Participant {i+1}, Trial {j+1}: log RT = {log_RT:.2f}\")"
   ]
  },
  {
   "attachments": {},
   "cell_type": "markdown",
   "metadata": {},
   "source": [
    "### Exercise 3"
   ]
  },
  {
   "cell_type": "code",
   "execution_count": 26,
   "metadata": {},
   "outputs": [
    {
     "name": "stdout",
     "output_type": "stream",
     "text": [
      "[[ 713  552  473  143  638  311  668  937  621  459]\n",
      " [ 287  750  411  410  351 1040 1124  891  924  664]\n",
      " [ 342 1063  131  485  480  159   60  389  375  653]]\n",
      "[[6.56948142 6.31354805 6.15909539 4.96284463 6.45833828 5.73979291\n",
      "  6.50428817 6.84268328 6.43133108 6.12905021]\n",
      " [5.65948222 6.62007321 6.01859321 6.01615716 5.86078622 6.94697599\n",
      "  7.02464903 6.79234443 6.82871207 6.49828215]\n",
      " [5.83481074 6.96885038 4.87519732 6.18414889 6.1737861  5.0689042\n",
      "  4.09434456 5.96357934 5.92692603 6.48157713]]\n"
     ]
    }
   ],
   "source": [
    "import numpy as np\n",
    "\n",
    "# Type your code here, using participants_array\n",
    "\n",
    "participants_array = np.array(participants)\n",
    "print(participants_array)\n",
    "\n",
    "logs = np.log(participants_array)\n",
    "print(logs)\n"
   ]
  }
 ],
 "metadata": {
  "kernelspec": {
   "display_name": "Python 3",
   "language": "python",
   "name": "python3"
  },
  "language_info": {
   "codemirror_mode": {
    "name": "ipython",
    "version": 3
   },
   "file_extension": ".py",
   "mimetype": "text/x-python",
   "name": "python",
   "nbconvert_exporter": "python",
   "pygments_lexer": "ipython3",
   "version": "3.9.13"
  },
  "orig_nbformat": 4
 },
 "nbformat": 4,
 "nbformat_minor": 2
}
