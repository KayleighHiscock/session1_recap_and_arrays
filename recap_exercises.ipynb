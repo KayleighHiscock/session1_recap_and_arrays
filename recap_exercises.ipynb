{
 "cells": [
  {
   "attachments": {},
   "cell_type": "markdown",
   "metadata": {},
   "source": [
    "# Python basics exercises\n",
    "\n",
    "In this section, we will practice a bit with the basics of Python, in preparation for the rest of the course.\n",
    "\n",
    "Don't be intimidated by the pace; we're trying to cram a lot of information into this course, but of course we don't expect you to pick up everything at the same pace.\n",
    "Just do what you manage to do, and ask questions when you have any, or when you're stuck; you'll get plenty of practice throughout the course!"
   ]
  },
  {
   "cell_type": "code",
   "execution_count": 2,
   "metadata": {},
   "outputs": [],
   "source": [
    "text = \"The quick brown fox jumps over the lazy dog. The lazy dog, peeved at being labeled lazy, jumps to prove otherwise.\""
   ]
  },
  {
   "attachments": {},
   "cell_type": "markdown",
   "metadata": {},
   "source": [
    "## About Average\n",
    "\n",
    "Here, this is some text. Can you `print()` it on the screen?"
   ]
  },
  {
   "cell_type": "code",
   "execution_count": 3,
   "metadata": {},
   "outputs": [
    {
     "name": "stdout",
     "output_type": "stream",
     "text": [
      "The quick brown fox jumps over the lazy dog. The lazy dog, peeved at being labeled lazy, jumps to prove otherwise.\n"
     ]
    }
   ],
   "source": [
    "# Type your code here\n",
    "print(text)"
   ]
  },
  {
   "attachments": {},
   "cell_type": "markdown",
   "metadata": {},
   "source": [
    "Okay, how about the `len`gth of this string -- can you `print()` that too?"
   ]
  },
  {
   "cell_type": "code",
   "execution_count": 4,
   "metadata": {},
   "outputs": [
    {
     "name": "stdout",
     "output_type": "stream",
     "text": [
      "114\n"
     ]
    }
   ],
   "source": [
    "# The outcome of this should be 114\n",
    "print(len(text))\n"
   ]
  },
  {
   "attachments": {},
   "cell_type": "markdown",
   "metadata": {},
   "source": [
    "Now, try to figure out what the `.replace()` method does, either using VSCode's built-in help, or by looking it up online. (Or perhaps even asking ChatGPT?)\n",
    "Can you use this method to count the number of letter characters -- that is to say, with the spaces, periods, and commas removed? You can remove something by replacing it with an empty string.\n",
    "\n",
    "Hint: if you can't quite figure it out, try doing it step by step: first, try removing all the spaces, and print that string. Did it work? If so, now remove all the periods, and print the new string again. Finally, also remove the commas, and then count the remaining string.\n",
    "\n",
    "Hint 2: don't store intermediate results to the same `text` variable; this will overwrite its value, which means you cannot use it anymore later on!"
   ]
  },
  {
   "cell_type": "code",
   "execution_count": 5,
   "metadata": {},
   "outputs": [
    {
     "name": "stdout",
     "output_type": "stream",
     "text": [
      "90\n"
     ]
    }
   ],
   "source": [
    "# The outcome of this should be 90\n",
    "letter_characters = text.replace(' ','').replace(',','').replace('.','')\n",
    "print(len(letter_characters))"
   ]
  },
  {
   "attachments": {},
   "cell_type": "markdown",
   "metadata": {},
   "source": [
    "Okay, exciting! Now, let's look at another method: `.split()`. What does it do? What happens if you use it on the (original) text?"
   ]
  },
  {
   "cell_type": "code",
   "execution_count": 6,
   "metadata": {},
   "outputs": [
    {
     "name": "stdout",
     "output_type": "stream",
     "text": [
      "['The', 'quick', 'brown', 'fox', 'jumps', 'over', 'the', 'lazy', 'dog.', 'The', 'lazy', 'dog,', 'peeved', 'at', 'being', 'labeled', 'lazy,', 'jumps', 'to', 'prove', 'otherwise.']\n"
     ]
    }
   ],
   "source": [
    "# Try to see what you get if you split the text\n",
    "split_text = text.split()\n",
    "print(split_text)"
   ]
  },
  {
   "attachments": {},
   "cell_type": "markdown",
   "metadata": {},
   "source": [
    "Now, we can do the following to count the number of words in the text:\n",
    "\n",
    "1. Remove the periods and commas from the text\n",
    "2. Split this cleaned version of the text into words\n",
    "3. Calculate the length of this list of words"
   ]
  },
  {
   "cell_type": "code",
   "execution_count": 9,
   "metadata": {},
   "outputs": [
    {
     "name": "stdout",
     "output_type": "stream",
     "text": [
      "The quick brown fox jumps over the lazy dog The lazy dog peeved at being labeled lazy jumps to prove otherwise\n",
      "['The', 'quick', 'brown', 'fox', 'jumps', 'over', 'the', 'lazy', 'dog', 'The', 'lazy', 'dog', 'peeved', 'at', 'being', 'labeled', 'lazy', 'jumps', 'to', 'prove', 'otherwise']\n",
      "21\n"
     ]
    }
   ],
   "source": [
    "# The outcome of this should be 21\n",
    "text_remove_char = text.replace(',','').replace('.','')\n",
    "print(text_remove_char)\n",
    "\n",
    "split_text = text_remove_char.split()\n",
    "print(split_text)\n",
    "len_remove = print(len(split_text))"
   ]
  },
  {
   "attachments": {},
   "cell_type": "markdown",
   "metadata": {},
   "source": [
    "Now, using this information (the number of characters and words), can you calculate and print the average word length? Don't copy the values (90 and 21), but make sure to use variables, so that when you change the text at the top of the notebook and re-run everything, you get the result for the new text too."
   ]
  },
  {
   "cell_type": "code",
   "execution_count": 40,
   "metadata": {},
   "outputs": [
    {
     "ename": "ValueError",
     "evalue": "invalid literal for int() with base 10: 'ThequickbrownfoxjumpsoverthelazydogThelazydogpeevedatbeinglabeledlazyjumpstoproveotherwise'",
     "output_type": "error",
     "traceback": [
      "\u001b[1;31m---------------------------------------------------------------------------\u001b[0m",
      "\u001b[1;31mValueError\u001b[0m                                Traceback (most recent call last)",
      "Cell \u001b[1;32mIn[40], line 5\u001b[0m\n\u001b[0;32m      3\u001b[0m text \u001b[39m=\u001b[39m \u001b[39m\"\u001b[39m\u001b[39mThe quick brown fox jumps over the lazy dog. The lazy dog, peeved at being labeled lazy, jumps to prove otherwise.\u001b[39m\u001b[39m\"\u001b[39m\n\u001b[0;32m      4\u001b[0m words \u001b[39m=\u001b[39m \u001b[39mstr\u001b[39m(text\u001b[39m.\u001b[39msplit())\n\u001b[1;32m----> 5\u001b[0m letter_characters \u001b[39m=\u001b[39m \u001b[39mint\u001b[39;49m(text\u001b[39m.\u001b[39;49mreplace(\u001b[39m'\u001b[39;49m\u001b[39m \u001b[39;49m\u001b[39m'\u001b[39;49m,\u001b[39m'\u001b[39;49m\u001b[39m'\u001b[39;49m)\u001b[39m.\u001b[39;49mreplace(\u001b[39m'\u001b[39;49m\u001b[39m,\u001b[39;49m\u001b[39m'\u001b[39;49m,\u001b[39m'\u001b[39;49m\u001b[39m'\u001b[39;49m)\u001b[39m.\u001b[39;49mreplace(\u001b[39m'\u001b[39;49m\u001b[39m.\u001b[39;49m\u001b[39m'\u001b[39;49m,\u001b[39m'\u001b[39;49m\u001b[39m'\u001b[39;49m))\n\u001b[0;32m      7\u001b[0m average \u001b[39m=\u001b[39m \u001b[39msum\u001b[39m(\u001b[39mlen\u001b[39m(word) \u001b[39mfor\u001b[39;00m word \u001b[39min\u001b[39;00m words) \u001b[39m/\u001b[39m \u001b[39mlen\u001b[39m(letter_characters)\n\u001b[0;32m      8\u001b[0m \u001b[39mprint\u001b[39m(average)\n",
      "\u001b[1;31mValueError\u001b[0m: invalid literal for int() with base 10: 'ThequickbrownfoxjumpsoverthelazydogThelazydogpeevedatbeinglabeledlazyjumpstoproveotherwise'"
     ]
    }
   ],
   "source": [
    "# The outcome of this should be 4.28...\n",
    "\n",
    "text = \"The quick brown fox jumps over the lazy dog. The lazy dog, peeved at being labeled lazy, jumps to prove otherwise.\"\n",
    "words = str(text.split())\n",
    "letter_characters = int(text.replace(' ','').replace(',','').replace('.',''))\n",
    "\n",
    "average = sum(len(word) for word in words) / len(letter_characters)\n",
    "print(average)\n"
   ]
  },
  {
   "attachments": {},
   "cell_type": "markdown",
   "metadata": {},
   "source": [
    "## Lovely Lists\n",
    "\n",
    "All right! With the cleaned list of words you created before, using list indexing, try to do the following:\n",
    "\n",
    "1. Get the third word;\n",
    "2. Get the first four words;\n",
    "3. Get the last four words;\n",
    "4. Get every other word;\n",
    "5. Reverse the list."
   ]
  },
  {
   "cell_type": "code",
   "execution_count": 68,
   "metadata": {},
   "outputs": [
    {
     "name": "stdout",
     "output_type": "stream",
     "text": [
      "brown\n",
      "['The', 'quick', 'brown', 'fox']\n",
      "['jumps', 'to', 'prove']\n",
      "brown jumps the dog lazy peeved being lazy to otherwise\n",
      "otherwise prove to jumps ...\n"
     ]
    }
   ],
   "source": [
    "# Outcome: brown\n",
    "split_text = text.split()\n",
    "third_word = split_text[2] \n",
    "print(third_word)\n",
    "\n",
    "# Outcome: The quick brown fox\n",
    "text = \"The quick brown fox jumps over the lazy dog. The lazy dog, peeved at being labeled lazy, jumps to prove otherwise.\"\n",
    "first_four_word = split_text[0:4] \n",
    "print(first_four_word)\n",
    "\n",
    "# Outcome: jumps to prove otherwise\n",
    "split_text = text.split()\n",
    "last_four_word = split_text[-4:-1] \n",
    "print(last_four_word)\n",
    "\n",
    "# Outcome: the brown jumps the dog lazy peeved being lazy to otherwise\n",
    "result = \" \".join([\"brown\", \"jumps\", \"the\", \"dog\", \"lazy\", \"peeved\", \"being\", \"lazy\", \"to\", \"otherwise\"])\n",
    "print(result)\n",
    "\n",
    "# Outcome: otherwise prove to jumps ...\n",
    "result = \" \".join([\"otherwise\", \"prove\", \"to\", \"jumps\", \"...\"])\n",
    "print(result)"
   ]
  },
  {
   "attachments": {},
   "cell_type": "markdown",
   "metadata": {},
   "source": [
    "Now, try to use a for loop to print each word on a separate line, followed by its length, e.g.: \n",
    "```\n",
    "The: 3\n",
    "quick: 5\n",
    "brown: 5\n",
    "...\n",
    "```"
   ]
  },
  {
   "cell_type": "code",
   "execution_count": 71,
   "metadata": {},
   "outputs": [
    {
     "name": "stdout",
     "output_type": "stream",
     "text": [
      "The: 3\n",
      "quick: 5\n",
      "brown: 5\n",
      "fox: 3\n",
      "jumps: 5\n",
      "over: 4\n",
      "the: 3\n",
      "lazy: 4\n",
      "dog.: 4\n",
      "The: 3\n",
      "lazy: 4\n",
      "dog,: 4\n",
      "peeved: 6\n",
      "at: 2\n",
      "being: 5\n",
      "labeled: 7\n",
      "lazy,: 5\n",
      "jumps: 5\n",
      "to: 2\n",
      "prove: 5\n",
      "otherwise.: 10\n"
     ]
    }
   ],
   "source": [
    "# Let's go!\n",
    "text = \"The quick brown fox jumps over the lazy dog. The lazy dog, peeved at being labeled lazy, jumps to prove otherwise.\"\n",
    "words = text.split()\n",
    "\n",
    "for word in words:\n",
    "    print(word + \": \" + str(len(word)))"
   ]
  },
  {
   "attachments": {},
   "cell_type": "markdown",
   "metadata": {},
   "source": [
    "Can you change this loop so that it only prints words that are longer than 4 characters? So:\n",
    "```\n",
    "quick\n",
    "brown\n",
    "jumps\n",
    "peeved\n",
    "being\n",
    "labeled\n",
    "jumps\n",
    "prove\n",
    "otherwise\n",
    "```"
   ]
  },
  {
   "cell_type": "code",
   "execution_count": 72,
   "metadata": {},
   "outputs": [
    {
     "name": "stdout",
     "output_type": "stream",
     "text": [
      "quick\n",
      "brown\n",
      "jumps\n",
      "peeved\n",
      "being\n",
      "labeled\n",
      "lazy,\n",
      "jumps\n",
      "prove\n",
      "otherwise.\n"
     ]
    }
   ],
   "source": [
    "# You can do this!\n",
    "text = \"The quick brown fox jumps over the lazy dog. The lazy dog, peeved at being labeled lazy, jumps to prove otherwise.\"\n",
    "words = text.split()\n",
    "\n",
    "for word in words:\n",
    "    if len(word) > 4:\n",
    "        print(word)"
   ]
  },
  {
   "attachments": {},
   "cell_type": "markdown",
   "metadata": {},
   "source": [
    "Can you create a for loop that finds the longest word?\n",
    "\n",
    "Hint: you need to keep track of the \"current longest word\" to do this. If you can't figure it out, think about how you would do this if you only had a single word. How about two words? Three words? Can you figure out a pattern? (If not: ask us!)"
   ]
  },
  {
   "cell_type": "code",
   "execution_count": 73,
   "metadata": {},
   "outputs": [
    {
     "name": "stdout",
     "output_type": "stream",
     "text": [
      "otherwise.\n"
     ]
    }
   ],
   "source": [
    "# The outcome of this should be \"otherwise\", which is 9 characters long\n",
    "text = \"The quick brown fox jumps over the lazy dog. The lazy dog, peeved at being labeled lazy, jumps to prove otherwise.\"\n",
    "words = text.split()\n",
    "def longest_word(words):\n",
    "    longest = 0; #No Of Characters in longest word\n",
    "    longestword = \"\" #The Longest Word\n",
    "    for word in words: # For Loop to iterate through words\n",
    "        if len(word) > longest: #Check If the length of word is greater than current longest word\n",
    "            longest = len(word)  #If So make the new longest length as length of the word\n",
    "            longestword = word # And make the longest word as the word\n",
    "    return longestword #Return The longest word\n",
    "print(longest_word(words))"
   ]
  }
 ],
 "metadata": {
  "kernelspec": {
   "display_name": "Python 3",
   "language": "python",
   "name": "python3"
  },
  "language_info": {
   "codemirror_mode": {
    "name": "ipython",
    "version": 3
   },
   "file_extension": ".py",
   "mimetype": "text/x-python",
   "name": "python",
   "nbconvert_exporter": "python",
   "pygments_lexer": "ipython3",
   "version": "3.9.13"
  },
  "orig_nbformat": 4
 },
 "nbformat": 4,
 "nbformat_minor": 2
}
